{
 "cells": [
  {
   "cell_type": "code",
   "execution_count": 1,
   "metadata": {},
   "outputs": [
    {
     "name": "stdout",
     "output_type": "stream",
     "text": [
      "Reading environment variables\n"
     ]
    },
    {
     "name": "stderr",
     "output_type": "stream",
     "text": [
      "Setting default log level to \"WARN\".\n",
      "To adjust logging level use sc.setLogLevel(newLevel). For SparkR, use setLogLevel(newLevel).\n",
      "24/01/30 10:09:47 WARN NativeCodeLoader: Unable to load native-hadoop library for your platform... using builtin-java classes where applicable\n"
     ]
    }
   ],
   "source": [
    "from finance_complaint.config.spark_manager import spark_session"
   ]
  },
  {
   "cell_type": "code",
   "execution_count": 3,
   "metadata": {},
   "outputs": [],
   "source": [
    "df=spark_session.read.parquet(\"/config/workspace/data/outbox/finance_complaint_20240130_100612\")"
   ]
  },
  {
   "cell_type": "code",
   "execution_count": 6,
   "metadata": {},
   "outputs": [
    {
     "data": {
      "text/plain": [
       "['company',\n",
       " 'company_public_response',\n",
       " 'company_response',\n",
       " 'complaint_id',\n",
       " 'complaint_what_happened',\n",
       " 'consumer_consent_provided',\n",
       " 'consumer_disputed',\n",
       " 'date_received',\n",
       " 'date_sent_to_company',\n",
       " 'issue',\n",
       " 'product',\n",
       " 'state',\n",
       " 'sub_issue',\n",
       " 'sub_product',\n",
       " 'submitted_via',\n",
       " 'tags',\n",
       " 'timely',\n",
       " 'zip_code',\n",
       " 'diff_in_days',\n",
       " 'im_diff_in_days',\n",
       " 'im_company_response',\n",
       " 'im_submitted_via',\n",
       " 'si_company_response',\n",
       " 'si_submitted_via',\n",
       " 'tf_company_response',\n",
       " 'tf_submitted_via',\n",
       " 'words',\n",
       " 'rawFeatures',\n",
       " 'tf_issue',\n",
       " 'va_input_features',\n",
       " 'scaled_input_features',\n",
       " 'rawPrediction',\n",
       " 'probability',\n",
       " 'prediction',\n",
       " 'prediction_consumer_disputed']"
      ]
     },
     "execution_count": 6,
     "metadata": {},
     "output_type": "execute_result"
    }
   ],
   "source": [
    "df.columns"
   ]
  },
  {
   "cell_type": "code",
   "execution_count": 10,
   "metadata": {},
   "outputs": [
    {
     "name": "stdout",
     "output_type": "stream",
     "text": [
      "+---------------------+-------------+-----------+----------+----------------------------+\n",
      "|scaled_input_features|rawPrediction|probability|prediction|prediction_consumer_disputed|\n",
      "+---------------------+-------------+-----------+----------+----------------------------+\n",
      "| (48,[0,4,11,13,16...|       [20.0]|      [1.0]|       0.0|                         N/A|\n",
      "| (48,[0,4,21,23,31...|       [20.0]|      [1.0]|       0.0|                         N/A|\n",
      "| (48,[0,4,18,19,26...|       [20.0]|      [1.0]|       0.0|                         N/A|\n",
      "| (48,[0,4,21,23,31...|       [20.0]|      [1.0]|       0.0|                         N/A|\n",
      "| (48,[0,4,24,30,31...|       [20.0]|      [1.0]|       0.0|                         N/A|\n",
      "| (48,[0,4,24,30,31...|       [20.0]|      [1.0]|       0.0|                         N/A|\n",
      "| (48,[0,4,18,19,26...|       [20.0]|      [1.0]|       0.0|                         N/A|\n",
      "| (48,[1,4,24,30,31...|       [20.0]|      [1.0]|       0.0|                         N/A|\n",
      "| (48,[0,4,24,30,31...|       [20.0]|      [1.0]|       0.0|                         N/A|\n",
      "| (48,[0,4,21,23,31...|       [20.0]|      [1.0]|       0.0|                         N/A|\n",
      "| (48,[0,4,21,23,31...|       [20.0]|      [1.0]|       0.0|                         N/A|\n",
      "| (48,[0,4,24,30,31...|       [20.0]|      [1.0]|       0.0|                         N/A|\n",
      "| (48,[0,4,18,19,26...|       [20.0]|      [1.0]|       0.0|                         N/A|\n",
      "| (48,[1,4,16,18,35...|       [20.0]|      [1.0]|       0.0|                         N/A|\n",
      "| (48,[2,4,24,30,31...|       [20.0]|      [1.0]|       0.0|                         N/A|\n",
      "| (48,[0,4,24,30,31...|       [20.0]|      [1.0]|       0.0|                         N/A|\n",
      "| (48,[0,4,24,30,31...|       [20.0]|      [1.0]|       0.0|                         N/A|\n",
      "| (48,[0,4,21,23,31...|       [20.0]|      [1.0]|       0.0|                         N/A|\n",
      "| (48,[0,4,24,30,31...|       [20.0]|      [1.0]|       0.0|                         N/A|\n",
      "| (48,[0,4,18,19,26...|       [20.0]|      [1.0]|       0.0|                         N/A|\n",
      "+---------------------+-------------+-----------+----------+----------------------------+\n",
      "only showing top 20 rows\n",
      "\n"
     ]
    }
   ],
   "source": [
    "df.select(\n",
    "[ 'scaled_input_features',\n",
    " 'rawPrediction',\n",
    " 'probability',\n",
    " 'prediction',\n",
    " 'prediction_consumer_disputed']).show()\n"
   ]
  },
  {
   "cell_type": "code",
   "execution_count": null,
   "metadata": {},
   "outputs": [],
   "source": []
  }
 ],
 "metadata": {
  "kernelspec": {
   "display_name": "Python 3.8.10 64-bit",
   "language": "python",
   "name": "python3"
  },
  "language_info": {
   "codemirror_mode": {
    "name": "ipython",
    "version": 3
   },
   "file_extension": ".py",
   "mimetype": "text/x-python",
   "name": "python",
   "nbconvert_exporter": "python",
   "pygments_lexer": "ipython3",
   "version": "3.8.10"
  },
  "orig_nbformat": 4,
  "vscode": {
   "interpreter": {
    "hash": "e7370f93d1d0cde622a1f8e1c04877d8463912d04d973331ad4851f04de6915a"
   }
  }
 },
 "nbformat": 4,
 "nbformat_minor": 2
}
